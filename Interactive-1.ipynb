{
 "cells": [
  {
   "cell_type": "markdown",
   "metadata": {
    "isInteractiveWindowMessageCell": true
   },
   "source": [
    "Connected to .venv (Python 3.11.5)"
   ]
  },
  {
   "cell_type": "code",
   "execution_count": 1,
   "metadata": {},
   "outputs": [],
   "source": [
    "import pandas as pd"
   ]
  },
  {
   "cell_type": "code",
   "execution_count": 2,
   "metadata": {},
   "outputs": [],
   "source": [
    "df = pd.read_excel('final5.xlsx')"
   ]
  },
  {
   "cell_type": "code",
   "execution_count": 45,
   "metadata": {},
   "outputs": [],
   "source": [
    "newData = {}\n",
    "serials = []"
   ]
  },
  {
   "cell_type": "code",
   "execution_count": 48,
   "metadata": {},
   "outputs": [],
   "source": [
    "with open('data.txt') as f:\n",
    "    all = f.read().split(\"\\n\")\n",
    "    for line in all:\n",
    "        serials.append(line.split(' ')[0])\n",
    "        newData[line.split(' ')[0]] = ' '.join(line.split(' ')[1:])"
   ]
  },
  {
   "cell_type": "code",
   "execution_count": 49,
   "metadata": {},
   "outputs": [
    {
     "data": {
      "text/plain": [
       "283"
      ]
     },
     "execution_count": 49,
     "metadata": {},
     "output_type": "execute_result"
    }
   ],
   "source": [
    "len(serials)"
   ]
  },
  {
   "cell_type": "code",
   "execution_count": 56,
   "metadata": {},
   "outputs": [],
   "source": [
    "flr = df['Serial number'].isin(serials) &  df['Asset model'].notna()\n",
    "# df[flr ][['Asset description'  , 'Asset manufacturer' ,\t'Asset model'\t,'PCs processor',\t'hard disk types',\t'Ram size']]\n",
    "\n",
    "for i , row in df[flr].iterrows():\n",
    "    df.loc[i ,'Asset model'] = newData[df.loc[i , 'Serial number']]\n",
    "    \n"
   ]
  },
  {
   "cell_type": "code",
   "execution_count": 57,
   "metadata": {},
   "outputs": [
    {
     "data": {
      "text/html": [
       "<div>\n",
       "<style scoped>\n",
       "    .dataframe tbody tr th:only-of-type {\n",
       "        vertical-align: middle;\n",
       "    }\n",
       "\n",
       "    .dataframe tbody tr th {\n",
       "        vertical-align: top;\n",
       "    }\n",
       "\n",
       "    .dataframe thead th {\n",
       "        text-align: right;\n",
       "    }\n",
       "</style>\n",
       "<table border=\"1\" class=\"dataframe\">\n",
       "  <thead>\n",
       "    <tr style=\"text-align: right;\">\n",
       "      <th></th>\n",
       "      <th>Asset description</th>\n",
       "      <th>Asset manufacturer</th>\n",
       "      <th>Asset model</th>\n",
       "      <th>PCs processor</th>\n",
       "      <th>hard disk types</th>\n",
       "      <th>Ram size</th>\n",
       "    </tr>\n",
       "  </thead>\n",
       "  <tbody>\n",
       "    <tr>\n",
       "      <th>0</th>\n",
       "      <td>PC</td>\n",
       "      <td>DELL</td>\n",
       "      <td>Optiplex 9020</td>\n",
       "      <td>i7</td>\n",
       "      <td>HDD</td>\n",
       "      <td>4</td>\n",
       "    </tr>\n",
       "    <tr>\n",
       "      <th>1</th>\n",
       "      <td>PC</td>\n",
       "      <td>DELL</td>\n",
       "      <td>Optiplex 9020</td>\n",
       "      <td>i7</td>\n",
       "      <td>HDD</td>\n",
       "      <td>4</td>\n",
       "    </tr>\n",
       "    <tr>\n",
       "      <th>2</th>\n",
       "      <td>PC</td>\n",
       "      <td>DELL</td>\n",
       "      <td>OptiPlex 780</td>\n",
       "      <td>core2</td>\n",
       "      <td>HDD</td>\n",
       "      <td>4</td>\n",
       "    </tr>\n",
       "    <tr>\n",
       "      <th>3</th>\n",
       "      <td>PC</td>\n",
       "      <td>DELL</td>\n",
       "      <td>OptiPlex 7040 Tower</td>\n",
       "      <td>i7</td>\n",
       "      <td>HDD</td>\n",
       "      <td>4</td>\n",
       "    </tr>\n",
       "    <tr>\n",
       "      <th>7</th>\n",
       "      <td>PC</td>\n",
       "      <td>DELL</td>\n",
       "      <td>OptiPlex 7040 Tower</td>\n",
       "      <td>i7</td>\n",
       "      <td>HDD</td>\n",
       "      <td>4</td>\n",
       "    </tr>\n",
       "    <tr>\n",
       "      <th>...</th>\n",
       "      <td>...</td>\n",
       "      <td>...</td>\n",
       "      <td>...</td>\n",
       "      <td>...</td>\n",
       "      <td>...</td>\n",
       "      <td>...</td>\n",
       "    </tr>\n",
       "    <tr>\n",
       "      <th>849</th>\n",
       "      <td>PC</td>\n",
       "      <td>DELL</td>\n",
       "      <td>OptiPlex 5060 Small Form Factor</td>\n",
       "      <td>i7</td>\n",
       "      <td>hdd</td>\n",
       "      <td>4</td>\n",
       "    </tr>\n",
       "    <tr>\n",
       "      <th>850</th>\n",
       "      <td>PC</td>\n",
       "      <td>DELL</td>\n",
       "      <td>OptiPlex 9010</td>\n",
       "      <td>i7</td>\n",
       "      <td>HDD</td>\n",
       "      <td>4</td>\n",
       "    </tr>\n",
       "    <tr>\n",
       "      <th>851</th>\n",
       "      <td>PC</td>\n",
       "      <td>DELL</td>\n",
       "      <td>Optiplex 9020</td>\n",
       "      <td>i7</td>\n",
       "      <td>HDD</td>\n",
       "      <td>4GB</td>\n",
       "    </tr>\n",
       "    <tr>\n",
       "      <th>852</th>\n",
       "      <td>PC</td>\n",
       "      <td>DELL</td>\n",
       "      <td>Optiplex 9020</td>\n",
       "      <td>i7</td>\n",
       "      <td>HDD</td>\n",
       "      <td>4</td>\n",
       "    </tr>\n",
       "    <tr>\n",
       "      <th>853</th>\n",
       "      <td>PC</td>\n",
       "      <td>DELL</td>\n",
       "      <td>Optiplex 3010</td>\n",
       "      <td>i7</td>\n",
       "      <td>HDD</td>\n",
       "      <td>2</td>\n",
       "    </tr>\n",
       "  </tbody>\n",
       "</table>\n",
       "<p>237 rows × 6 columns</p>\n",
       "</div>"
      ],
      "text/plain": [
       "    Asset description Asset manufacturer                      Asset model  \\\n",
       "0                  PC               DELL                    Optiplex 9020   \n",
       "1                  PC               DELL                    Optiplex 9020   \n",
       "2                  PC               DELL                     OptiPlex 780   \n",
       "3                  PC               DELL              OptiPlex 7040 Tower   \n",
       "7                  PC               DELL              OptiPlex 7040 Tower   \n",
       "..                ...                ...                              ...   \n",
       "849                PC               DELL  OptiPlex 5060 Small Form Factor   \n",
       "850                PC               DELL                    OptiPlex 9010   \n",
       "851                PC               DELL                    Optiplex 9020   \n",
       "852                PC               DELL                    Optiplex 9020   \n",
       "853                PC               DELL                    Optiplex 3010   \n",
       "\n",
       "    PCs processor hard disk types Ram size  \n",
       "0              i7             HDD        4  \n",
       "1              i7             HDD        4  \n",
       "2           core2             HDD        4  \n",
       "3              i7             HDD        4  \n",
       "7              i7             HDD        4  \n",
       "..            ...             ...      ...  \n",
       "849            i7             hdd        4  \n",
       "850            i7             HDD        4  \n",
       "851            i7             HDD      4GB  \n",
       "852            i7             HDD        4  \n",
       "853            i7             HDD        2  \n",
       "\n",
       "[237 rows x 6 columns]"
      ]
     },
     "execution_count": 57,
     "metadata": {},
     "output_type": "execute_result"
    }
   ],
   "source": [
    "df[flr ][['Asset description'  , 'Asset manufacturer' ,\t'Asset model'\t,'PCs processor',\t'hard disk types',\t'Ram size']]\n"
   ]
  },
  {
   "cell_type": "code",
   "execution_count": 63,
   "metadata": {},
   "outputs": [],
   "source": [
    "with pd.ExcelWriter('./new.xlsx') as f:\n",
    "    df.to_excel(f)"
   ]
  },
  {
   "cell_type": "code",
   "execution_count": null,
   "metadata": {},
   "outputs": [],
   "source": []
  }
 ],
 "metadata": {
  "kernelspec": {
   "display_name": ".venv",
   "language": "python",
   "name": "python3"
  },
  "language_info": {
   "codemirror_mode": {
    "name": "ipython",
    "version": 3
   },
   "file_extension": ".py",
   "mimetype": "text/x-python",
   "name": "python",
   "nbconvert_exporter": "python",
   "pygments_lexer": "ipython3",
   "version": "3.11.5"
  }
 },
 "nbformat": 4,
 "nbformat_minor": 2
}
